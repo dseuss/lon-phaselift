{
 "cells": [
  {
   "cell_type": "code",
   "execution_count": null,
   "metadata": {
    "collapsed": false,
    "deletable": true,
    "editable": true
   },
   "outputs": [],
   "source": [
    "import numpy as np\n",
    "import matplotlib.pyplot as pl\n",
    "import pypllon as plon\n",
    "\n",
    "RGEN = np.random.RandomState(seed=274395387)"
   ]
  },
  {
   "cell_type": "code",
   "execution_count": null,
   "metadata": {
    "collapsed": false,
    "deletable": true,
    "editable": true
   },
   "outputs": [],
   "source": [
    "# %load /Users/dsuess/Code/Pythonlibs/cluster_template.ipy\n",
    "import ipyparallel\n",
    "from os import environ\n",
    "\n",
    "CLUSTER_ID = environ.get('CLUSTER_ID', None)\n",
    "_clients = ipyparallel.Client(cluster_id=CLUSTER_ID)\n",
    "_view = _clients.load_balanced_view()\n",
    "print(\"Kernels available: {}\".format(len(_clients)))"
   ]
  },
  {
   "cell_type": "code",
   "execution_count": null,
   "metadata": {
    "collapsed": false,
    "deletable": true,
    "editable": true
   },
   "outputs": [],
   "source": [
    "# lower and upper bounds of number of measurements (as a function of size)\n",
    "LBOUND = lambda dim: 4 * dim - 12\n",
    "UBOUND = lambda dim: 6 * dim + 20\n",
    "\n",
    "# Buffer file\n",
    "OUTFILE = 'noiseless_gauss.h5'\n",
    "\n",
    "# the maximal dimension to check\n",
    "MAX_DIM = 10\n",
    "\n",
    "# Number of random matrices to sample\n",
    "SAMPLES = 100\n",
    "\n",
    "# Fraction of measurement vectors sampled from RECR ensemble\n",
    "# (the rest is sampled from Gaussian ensemble)\n",
    "INVECS_GENERATOR = plon.invecs_gaussian\n",
    "\n",
    "# the single error-componenet standard deviation\n",
    "SIGMA = 0.\n",
    "\n",
    "# the optimization function to use (from phaselift.routines)\n",
    "OPTIM_FUNC = plon.lr_recover_l2"
   ]
  },
  {
   "cell_type": "code",
   "execution_count": null,
   "metadata": {
    "collapsed": false,
    "deletable": true,
    "editable": true
   },
   "outputs": [],
   "source": [
    "from scipy.linalg import dft\n",
    "from pypllon.ccg_haar import unitary_haar\n",
    "\n",
    "def generate_tmats(dim, rgen):\n",
    "    assert SAMPLES >= 3\n",
    "    mats = {'ID': np.eye(dim), 'SWAP': np.eye(dim)[::-1]}\n",
    "    mats.update({'DFT': dft(dim, scale='sqrtn')})\n",
    "    mats.update({'RAND_%i' % i: unitary_haar(dim, rgen=rgen) \n",
    "                 for i in range(SAMPLES - 3)})\n",
    "    return mats"
   ]
  },
  {
   "cell_type": "code",
   "execution_count": null,
   "metadata": {
    "collapsed": true
   },
   "outputs": [],
   "source": [
    "import cvxpy\n",
    "from tools.helpers import get_git_revision_hash\n",
    "\n",
    "def write_h5_header(h5file):\n",
    "    rstate = RGEN.get_state()\n",
    "\n",
    "    h5file.attrs['commit'] = get_git_revision_hash()\n",
    "    h5file.attrs['random_gen'] = rstate[0]\n",
    "    h5file.attrs['random_keys'] = rstate[1]\n",
    "    h5file.attrs['random_pos'] = rstate[2]\n",
    "    h5file.attrs['random_has_gauss'] = rstate[3]\n",
    "    h5file.attrs['random_cached_gaussian'] = rstate[4]\n",
    "    h5file.attrs['cvxpy_version'] = cvxpy.__version__\n",
    "    \n",
    "    setupvars = ((key, value) for key, value in globals().items() \n",
    "                 if key.isupper())\n",
    "    for key, value in setupvars:\n",
    "        try:\n",
    "            h5file.attrs[key] = value\n",
    "        except TypeError:\n",
    "            pass\n",
    "       \n",
    "    \n",
    "def write_h5_invecs(h5group, invecs):\n",
    "    h5group['INVECS'] = invecs\n",
    "        \n",
    "        \n",
    "def write_h5_intensities(h5group, intensities):\n",
    "    group = h5group.create_group('INTENSITIES')\n",
    "    for key, val in intensities.items():\n",
    "        group[str(key)] = val\n",
    "       \n",
    "    \n",
    "def write_h5_tmats(h5group, tmats):\n",
    "    group = h5group.create_group('TARGETS')\n",
    "    for key, val in tmats.items():\n",
    "        group[str(key)] = val\n",
    "        \n",
    "        \n",
    "def write_h5_result(h5group, nr_measurements, result):\n",
    "    group = h5group.create_group('RECOV_%i' % nr_measurements)\n",
    "    group.attrs['NR_MEASUREMENTS'] = nr_measurements\n",
    "    for name, success, recons, errs in result:\n",
    "        if not success:\n",
    "            continue\n",
    "        group[str(name)] = recons\n",
    "        group[str(name)].attrs['errs'] = errs"
   ]
  },
  {
   "cell_type": "code",
   "execution_count": null,
   "metadata": {
    "collapsed": true
   },
   "outputs": [],
   "source": [
    "_clients[:].push({'OPTIM_FUNC': OPTIM_FUNC});"
   ]
  },
  {
   "cell_type": "code",
   "execution_count": null,
   "metadata": {
    "collapsed": true
   },
   "outputs": [],
   "source": [
    "%%px --local\n",
    "import pypllon as plon\n",
    "from cvxpy import SolverError"
   ]
  },
  {
   "cell_type": "code",
   "execution_count": null,
   "metadata": {
    "collapsed": false
   },
   "outputs": [],
   "source": [
    "import h5py\n",
    "from tools.helpers import Progress\n",
    "\n",
    "def recover(args):\n",
    "    name, invecs, intensities = args\n",
    "    try:\n",
    "        recons, err = plon.recover(invecs, intensities, optim_func=OPTIM_FUNC,\n",
    "                                   reterr=True)\n",
    "        return name, True, recons, err\n",
    "    except (SolverError, RuntimeError, ZeroDivisionError) as e:\n",
    "        print(\"Failed recovering {} with m={}\".format(name, len(invecs)))\n",
    "        dim = invecs.shape[1]\n",
    "        return name, False, np.zeros((dim, dim)), np.zeros(dim)\n",
    "\n",
    "\n",
    "with h5py.File(OUTFILE, 'w') as df:\n",
    "    write_h5_header(df)\n",
    "    for dim in range(2, MAX_DIM + 1):\n",
    "        dimgroup = df.create_group('DIM=%i' % dim)\n",
    "        dimgroup.attrs['DIM'] = dim\n",
    "\n",
    "        invecs = INVECS_GENERATOR(dim, UBOUND(dim), rgen=RGEN)\n",
    "        write_h5_invecs(dimgroup, invecs)\n",
    "\n",
    "        tmats = generate_tmats(dim, rgen=RGEN)\n",
    "        write_h5_tmats(dimgroup, tmats)\n",
    "\n",
    "        intensities = {name: np.abs(invecs @ tmat.T)**2 + SIGMA * RGEN.randn(*invecs.shape)\n",
    "                       for name, tmat in tmats.items()}\n",
    "        write_h5_intensities(dimgroup, intensities)\n",
    "\n",
    "        nr_measurements = np.arange(max(LBOUND(dim), 1), UBOUND(dim) + 1)\n",
    "        dimgroup.attrs['NR_MEASUREMENTS'] = nr_measurements\n",
    "\n",
    "        for m in Progress(nr_measurements):\n",
    "            sequence = [(name, invecs[:m], val[:m]) for name, val in intensities.items()]\n",
    "            result = _view.map_sync(recover, sequence)\n",
    "            write_h5_result(dimgroup, m, result)\n",
    "            df.flush()"
   ]
  },
  {
   "cell_type": "code",
   "execution_count": null,
   "metadata": {
    "collapsed": false
   },
   "outputs": [],
   "source": [
    "from pypllon.parsers import load_simdata\n",
    "\n",
    "@np.vectorize\n",
    "def recons_error(target, recov):\n",
    "    a, b = plon.fix_phases('rows_by_max', target, recov)\n",
    "    return np.linalg.norm(a - b)\n",
    "\n",
    "with h5py.File(OUTFILE, 'r') as infile:\n",
    "    df = load_simdata(infile)\n",
    "\n",
    "print(\"Number of failed reconstructions: {}\".\n",
    "      format(len(df[df.isnull().any(axis=1)])))\n",
    "\n",
    "df['recons_err'] = recons_error(df['target'], df['recons'])\n",
    "df['recons_success'] = df['recons_err'] < 1e-2"
   ]
  },
  {
   "cell_type": "code",
   "execution_count": null,
   "metadata": {
    "collapsed": false
   },
   "outputs": [],
   "source": [
    "p_success = df.groupby(['dim', 'measurements']) \\\n",
    "    .recons_success.mean() \\\n",
    "    .reset_index() \\\n",
    "    .pivot('measurements', 'dim')\n",
    "\n",
    "x = p_success.columns.levels[1].values\n",
    "y = p_success.index.values\n",
    "z = p_success.values\n",
    "pl.contourf(*np.meshgrid(x, y), z, alpha=0.7)"
   ]
  }
 ],
 "metadata": {
  "hide_input": false,
  "kernelspec": {
   "display_name": "Python [default]",
   "language": "python",
   "name": "python3"
  },
  "language_info": {
   "codemirror_mode": {
    "name": "ipython",
    "version": 3
   },
   "file_extension": ".py",
   "mimetype": "text/x-python",
   "name": "python",
   "nbconvert_exporter": "python",
   "pygments_lexer": "ipython3",
   "version": "3.6.1"
  },
  "latex_envs": {
   "bibliofile": "biblio.bib",
   "cite_by": "apalike",
   "current_citInitial": 1,
   "eqLabelWithNumbers": true,
   "eqNumInitial": 0
  }
 },
 "nbformat": 4,
 "nbformat_minor": 0
}
